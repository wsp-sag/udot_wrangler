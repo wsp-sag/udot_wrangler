{
 "cells": [
  {
   "cell_type": "markdown",
   "id": "a0cf7602",
   "metadata": {},
   "source": [
    "### This notebook converts the CUBE log files into Project Card skeletons that can be consumed by Network Wrangler. And saves out the Project Card files."
   ]
  },
  {
   "cell_type": "code",
   "execution_count": null,
   "id": "38f27c55",
   "metadata": {},
   "outputs": [],
   "source": [
    "from pathlib import Path\n",
    "\n",
    "from network_wrangler import load_scenario\n",
    "\n",
    "from cube_wrangler import Project\n",
    "\n",
    "from udot_wrangler import UDOT_Parameters\n"
   ]
  },
  {
   "cell_type": "markdown",
   "id": "9b7d3414",
   "metadata": {},
   "source": [
    "## I/O"
   ]
  },
  {
   "cell_type": "code",
   "execution_count": null,
   "id": "e6461cf1",
   "metadata": {},
   "outputs": [],
   "source": [
    "root_dir = r\"Y:\\UDOT\\Network_Wrangler_Implementation_Phase_1\"\n",
    "data_dir = f\"{root_dir}/data\""
   ]
  },
  {
   "cell_type": "markdown",
   "id": "524d43a4",
   "metadata": {},
   "source": [
    "## Load base scenario"
   ]
  },
  {
   "cell_type": "code",
   "execution_count": null,
   "id": "2e64190d",
   "metadata": {},
   "outputs": [],
   "source": [
    "base_scenario = load_scenario(\n",
    "    Path(f\"{data_dir}/interim/base_scenario/base_scenario.yml\"),\n",
    ")"
   ]
  },
  {
   "cell_type": "markdown",
   "id": "96c44766",
   "metadata": {},
   "source": [
    "## Create project card from single cube log file"
   ]
  },
  {
   "cell_type": "code",
   "execution_count": null,
   "id": "0079a124",
   "metadata": {},
   "outputs": [],
   "source": [
    "log_file_dir = Path(f\"{data_dir}/external/new_log_files_from_F&P\")"
   ]
  },
  {
   "cell_type": "code",
   "execution_count": null,
   "id": "17d003f0",
   "metadata": {},
   "outputs": [],
   "source": [
    "log_file_name = 'Grid_Cache_ 600EConnector'"
   ]
  },
  {
   "cell_type": "code",
   "execution_count": null,
   "id": "9378df1d",
   "metadata": {},
   "outputs": [],
   "source": [
    "udot_parameters = UDOT_Parameters(\n",
    "    udot_wrangler_base_dir = \"../../udot_wrangler\",\n",
    "    cube_wrangler_base_dir = \"../../cube_wrangler\"\n",
    ")"
   ]
  },
  {
   "cell_type": "code",
   "execution_count": null,
   "id": "c2497536",
   "metadata": {},
   "outputs": [],
   "source": [
    "project = Project.create_project(\n",
    "    base_roadway_network = base_scenario.road_net,\n",
    "    roadway_log_file = f\"{log_file_dir}/{log_file_name}.LOG\",\n",
    "    parameters = udot_parameters\n",
    ")"
   ]
  },
  {
   "cell_type": "code",
   "execution_count": null,
   "id": "879fb184",
   "metadata": {},
   "outputs": [],
   "source": [
    "card_file_name = Path(f'{log_file_dir}/{log_file_name}.yaml')"
   ]
  },
  {
   "cell_type": "markdown",
   "id": "a2fb74e5",
   "metadata": {},
   "source": [
    "## Write project card"
   ]
  },
  {
   "cell_type": "code",
   "execution_count": null,
   "id": "36cc799f",
   "metadata": {},
   "outputs": [],
   "source": [
    "project.write_project_card(filename = card_file_name)"
   ]
  },
  {
   "cell_type": "markdown",
   "id": "743c2537",
   "metadata": {},
   "source": [
    "## Create and write project cards in a loop"
   ]
  },
  {
   "cell_type": "code",
   "execution_count": null,
   "id": "153a895c",
   "metadata": {},
   "outputs": [],
   "source": [
    "# get all file names in log_file_dir\n",
    "log_file_names = [\n",
    "    file.name for file in log_file_dir.iterdir() if file.is_file() and file.suffix == \".LOG\"\n",
    "]"
   ]
  },
  {
   "cell_type": "code",
   "execution_count": null,
   "id": "cc8a422b",
   "metadata": {},
   "outputs": [],
   "source": [
    "for log_file_name in log_file_names:\n",
    "    project = Project.create_project(\n",
    "        base_roadway_network = base_scenario.road_net,\n",
    "        roadway_log_file = f\"{log_file_dir}/{log_file_name}\",\n",
    "        parameters = udot_parameters\n",
    "    )\n",
    "    \n",
    "    card_file_name = Path(f'{log_file_dir}/{log_file_name}.yaml')\n",
    "    \n",
    "    project.write_project_card(filename = card_file_name)"
   ]
  },
  {
   "cell_type": "code",
   "execution_count": null,
   "id": "3feebbf2",
   "metadata": {},
   "outputs": [],
   "source": []
  }
 ],
 "metadata": {
  "kernelspec": {
   "display_name": "network-wrangler",
   "language": "python",
   "name": "python3"
  },
  "language_info": {
   "codemirror_mode": {
    "name": "ipython",
    "version": 3
   },
   "file_extension": ".py",
   "mimetype": "text/x-python",
   "name": "python",
   "nbconvert_exporter": "python",
   "pygments_lexer": "ipython3",
   "version": "3.10.18"
  }
 },
 "nbformat": 4,
 "nbformat_minor": 5
}
