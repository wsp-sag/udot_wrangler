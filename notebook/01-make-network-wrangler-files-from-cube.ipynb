{
 "cells": [
  {
   "cell_type": "markdown",
   "id": "a0cf7602",
   "metadata": {},
   "source": [
    "### This notebook converts the master network shapefiles exported from CUBE to data structures that can be consumed by Network Wrangler. And saves out the base Network Wrangler files."
   ]
  },
  {
   "cell_type": "code",
   "execution_count": null,
   "id": "38f27c55",
   "metadata": {},
   "outputs": [],
   "source": [
    "import geopandas as gpd\n",
    "\n",
    "from pathlib import Path\n",
    "\n",
    "from network_wrangler import create_scenario\n",
    "from network_wrangler.roadway.links.create import data_to_links_df\n",
    "from network_wrangler.roadway.network import RoadwayNetwork"
   ]
  },
  {
   "cell_type": "markdown",
   "id": "225fc3fc",
   "metadata": {},
   "source": [
    "## I/O"
   ]
  },
  {
   "cell_type": "code",
   "execution_count": null,
   "id": "cee57122",
   "metadata": {},
   "outputs": [],
   "source": [
    "# read the master network shapefile\n",
    "\n",
    "root_dir = r\"Y:\\UDOT\\Network_Wrangler_Implementation_Phase_1\"\n",
    "data_dir = f\"{root_dir}/data\"\n",
    "\n",
    "# the crs is not in the shapefile, so we need to set it manually\n",
    "# the crs is NAD83 / UTM zone 12N (EPSG:26912)\n",
    "master_links_gdf = gpd.read_file(f\"{data_dir}/interim/master_network/Cachev3_MasterNet_20250328_links.shp\")\n",
    "master_links_gdf = master_links_gdf.set_crs(\"epsg:26912\")\n",
    "master_nodes_gdf = gpd.read_file(f\"{data_dir}/interim/master_network/Cachev3_MasterNet_20250328_nodes.shp\")\n",
    "master_nodes_gdf = master_nodes_gdf.set_crs(\"epsg:26912\")"
   ]
  },
  {
   "cell_type": "markdown",
   "id": "f726792d",
   "metadata": {},
   "source": [
    "### Prep CUBE network"
   ]
  },
  {
   "cell_type": "code",
   "execution_count": null,
   "id": "46902138",
   "metadata": {},
   "outputs": [],
   "source": [
    "# `PROJECT_NUMBER` got shortened to `PROJECT_NUM` when exporting from CUBE to shapefile, so we need to rename it\n",
    "master_links_gdf = master_links_gdf.rename(columns={\"PROJECT_NUM\": \"PROJECT_NUMBER\"})"
   ]
  },
  {
   "cell_type": "code",
   "execution_count": null,
   "id": "e4a28ac6",
   "metadata": {},
   "outputs": [],
   "source": [
    "# convert the crs to WGS84\n",
    "master_links_gdf = master_links_gdf.to_crs(\"EPSG:4326\")\n",
    "master_nodes_gdf = master_nodes_gdf.to_crs(\"EPSG:4326\")"
   ]
  },
  {
   "cell_type": "code",
   "execution_count": null,
   "id": "d4232ef7",
   "metadata": {},
   "outputs": [],
   "source": [
    "# network wrangker requires `model_link_id` integer column in the links dataframe\n",
    "# we will create this column as a sequential integer starting from 1\n",
    "# we will also write it out to the modified CUBE network\n",
    "master_links_gdf['model_link_id'] = range(1, len(master_links_gdf) + 1)"
   ]
  },
  {
   "cell_type": "code",
   "execution_count": null,
   "id": "3b7e0640",
   "metadata": {},
   "outputs": [],
   "source": [
    "# fill in the missing columns with default values, \n",
    "# if a column is numeric, fill with 0, \n",
    "# if a column is string, fill with empty string\n",
    "for col in master_links_gdf.columns:\n",
    "    if col not in ['geometry', 'model_link_id']:\n",
    "        if master_links_gdf[col].dtype == 'object':\n",
    "            master_links_gdf[col] = master_links_gdf[col].fillna('')\n",
    "        else:\n",
    "            master_links_gdf[col] = master_links_gdf[col].fillna(0)\n",
    "\n",
    "for col in master_nodes_gdf.columns:\n",
    "    if col not in ['geometry']:\n",
    "        if master_nodes_gdf[col].dtype == 'object':\n",
    "            master_nodes_gdf[col] = master_nodes_gdf[col].fillna('')\n",
    "        else:\n",
    "            master_nodes_gdf[col] = master_nodes_gdf[col].fillna(0)"
   ]
  },
  {
   "cell_type": "code",
   "execution_count": null,
   "id": "3e530f74",
   "metadata": {},
   "outputs": [],
   "source": [
    "# network wrangker requires `lanes` integer column in the links dataframe\n",
    "# we will create this column and set it to 0, as the master network does not\n",
    "master_links_gdf['lanes'] = 0"
   ]
  },
  {
   "cell_type": "code",
   "execution_count": null,
   "id": "c15a0b2d",
   "metadata": {},
   "outputs": [],
   "source": [
    "# network wrangler expects nodes to have a `model_node_id` attribute\n",
    "# the master network has `N`, which is the node ID, we will rename it to `model_node_id`\n",
    "master_nodes_gdf = master_nodes_gdf.rename(columns={'N': 'model_node_id'})"
   ]
  },
  {
   "cell_type": "code",
   "execution_count": null,
   "id": "d81a4b96",
   "metadata": {},
   "outputs": [],
   "source": [
    "# this step loads input master network into Network Wrangler's RoadwayNetwork object\n",
    "wr_links_df = data_to_links_df(master_links_gdf, nodes_df=master_nodes_gdf)\n",
    "road_net = RoadwayNetwork(nodes_df=master_nodes_gdf, links_df=wr_links_df)"
   ]
  },
  {
   "cell_type": "markdown",
   "id": "955c5209",
   "metadata": {},
   "source": [
    "## Create a base scenario"
   ]
  },
  {
   "cell_type": "code",
   "execution_count": null,
   "id": "4c08ebd6",
   "metadata": {},
   "outputs": [],
   "source": [
    "# create a base scenario without transit\n",
    "base_scenario = create_scenario(\n",
    "    base_scenario = {\"road_net\": road_net}\n",
    ")\n",
    "\n",
    "base_scenario = create_scenario(\n",
    "    base_scenario = base_scenario,\n",
    ")"
   ]
  },
  {
   "cell_type": "markdown",
   "id": "923425c0",
   "metadata": {},
   "source": [
    "## Write out base scenario"
   ]
  },
  {
   "cell_type": "code",
   "execution_count": null,
   "id": "8725e573",
   "metadata": {},
   "outputs": [],
   "source": [
    "base_scenario.write(\n",
    "    Path(f\"{data_dir}/interim/base_scenario\"),\n",
    "    name = \"base\",\n",
    "    roadway_file_format = \"geojson\",\n",
    "    roadway_write = True,\n",
    "    transit_write = False,\n",
    "    projects_write = True,\n",
    "    overwrite = True,\n",
    ")"
   ]
  }
 ],
 "metadata": {
  "kernelspec": {
   "display_name": "network-wrangler",
   "language": "python",
   "name": "python3"
  },
  "language_info": {
   "codemirror_mode": {
    "name": "ipython",
    "version": 3
   },
   "file_extension": ".py",
   "mimetype": "text/x-python",
   "name": "python",
   "nbconvert_exporter": "python",
   "pygments_lexer": "ipython3",
   "version": "3.10.18"
  }
 },
 "nbformat": 4,
 "nbformat_minor": 5
}
