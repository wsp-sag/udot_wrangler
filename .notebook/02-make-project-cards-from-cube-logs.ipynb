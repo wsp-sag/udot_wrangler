{
 "cells": [
  {
   "cell_type": "markdown",
   "id": "a0cf7602",
   "metadata": {},
   "source": [
    "### This notebook converts the CUBE log files into Project Card skeletons that can be consumed by Network Wrangler. And saves out the Project Card files."
   ]
  },
  {
   "cell_type": "code",
   "execution_count": 9,
   "id": "38f27c55",
   "metadata": {},
   "outputs": [],
   "source": [
    "from pathlib import Path\n",
    "\n",
    "from network_wrangler import load_scenario\n",
    "\n",
    "from cube_wrangler import Project\n",
    "\n",
    "from udot_wrangler import UDOT_Parameters\n"
   ]
  },
  {
   "cell_type": "markdown",
   "id": "9b7d3414",
   "metadata": {},
   "source": [
    "## I/O"
   ]
  },
  {
   "cell_type": "code",
   "execution_count": 3,
   "id": "e6461cf1",
   "metadata": {},
   "outputs": [],
   "source": [
    "root_dir = r\"Z:\\projects\\UDOT\\Network_Wrangler_Implementation_Phase_1\"\n",
    "data_dir = f\"{root_dir}/data\""
   ]
  },
  {
   "cell_type": "markdown",
   "id": "524d43a4",
   "metadata": {},
   "source": [
    "## Load base scenario"
   ]
  },
  {
   "cell_type": "code",
   "execution_count": 4,
   "id": "2e64190d",
   "metadata": {},
   "outputs": [],
   "source": [
    "base_scenario = load_scenario(\n",
    "    Path(f\"{data_dir}/interim/base_scenario/base_scenario.yml\"),\n",
    ")"
   ]
  },
  {
   "cell_type": "markdown",
   "id": "96c44766",
   "metadata": {},
   "source": [
    "## Create project card from single cube log file"
   ]
  },
  {
   "cell_type": "code",
   "execution_count": 5,
   "id": "0079a124",
   "metadata": {},
   "outputs": [],
   "source": [
    "log_file_dir = Path(f\"{data_dir}/external/new_log_files_from_F&P\")"
   ]
  },
  {
   "cell_type": "code",
   "execution_count": 6,
   "id": "17d003f0",
   "metadata": {},
   "outputs": [],
   "source": [
    "log_file_name = 'Grid_Cache_ 600EConnector'"
   ]
  },
  {
   "cell_type": "code",
   "execution_count": 12,
   "id": "9378df1d",
   "metadata": {},
   "outputs": [
    {
     "name": "stderr",
     "output_type": "stream",
     "text": [
      "Cannot find UDOT Wrangler base directory from D:\\GitHub\\udot_wrangler, please input using keyword in parameters: `udot_wrangler_base_dir =` \n"
     ]
    },
    {
     "ename": "ValueError",
     "evalue": "Cannot find UDOT Wrangler base directory from D:\\GitHub\\udot_wrangler, please input using keyword in parameters: `udot_wrangler_base_dir =` ",
     "output_type": "error",
     "traceback": [
      "\u001b[1;31m---------------------------------------------------------------------------\u001b[0m",
      "\u001b[1;31mValueError\u001b[0m                                Traceback (most recent call last)",
      "Cell \u001b[1;32mIn[12], line 1\u001b[0m\n\u001b[1;32m----> 1\u001b[0m udot_parameters \u001b[38;5;241m=\u001b[39m \u001b[43mUDOT_Parameters\u001b[49m\u001b[43m(\u001b[49m\n\u001b[0;32m      2\u001b[0m \u001b[43m    \u001b[49m\u001b[43mudot_wrangler_base_dir\u001b[49m\u001b[43m \u001b[49m\u001b[38;5;241;43m=\u001b[39;49m\u001b[43m \u001b[49m\u001b[38;5;124;43mr\u001b[39;49m\u001b[38;5;124;43m\"\u001b[39;49m\u001b[38;5;124;43mD:\u001b[39;49m\u001b[38;5;124;43m\\\u001b[39;49m\u001b[38;5;124;43mGitHub\u001b[39;49m\u001b[38;5;124;43m\\\u001b[39;49m\u001b[38;5;124;43mudot_wrangler\u001b[39;49m\u001b[38;5;124;43m\"\u001b[39;49m\u001b[43m,\u001b[49m\n\u001b[0;32m      3\u001b[0m \u001b[43m    \u001b[49m\u001b[43mcube_wrangler_base_dir\u001b[49m\u001b[43m \u001b[49m\u001b[38;5;241;43m=\u001b[39;49m\u001b[43m \u001b[49m\u001b[38;5;124;43mr\u001b[39;49m\u001b[38;5;124;43m\"\u001b[39;49m\u001b[38;5;124;43mD:\u001b[39;49m\u001b[38;5;124;43m\\\u001b[39;49m\u001b[38;5;124;43mGitHub\u001b[39;49m\u001b[38;5;124;43m\\\u001b[39;49m\u001b[38;5;124;43mcube_wrangler\u001b[39;49m\u001b[38;5;124;43m\"\u001b[39;49m\n\u001b[0;32m      4\u001b[0m \u001b[43m)\u001b[49m\n",
      "File \u001b[1;32md:\\GitHub\\test_wrangler_env\\.venv\\lib\\site-packages\\udot_wrangler\\parameters.py:61\u001b[0m, in \u001b[0;36mUDOT_Parameters.__init__\u001b[1;34m(self, **kwargs)\u001b[0m\n\u001b[0;32m     58\u001b[0m \u001b[39mself\u001b[39m\u001b[39m.\u001b[39mproperties_to_split \u001b[39m=\u001b[39m {}\n\u001b[0;32m     60\u001b[0m \u001b[39mif\u001b[39;00m \u001b[39m\"\u001b[39m\u001b[39mudot_wrangler_base_dir\u001b[39m\u001b[39m\"\u001b[39m \u001b[39min\u001b[39;00m kwargs:\n\u001b[1;32m---> 61\u001b[0m     \u001b[39mself\u001b[39m\u001b[39m.\u001b[39mbase_dir \u001b[39m=\u001b[39m get_base_dir(\n\u001b[0;32m     62\u001b[0m         udot_wrangler_base_dir\u001b[39m=\u001b[39;49mkwargs\u001b[39m.\u001b[39;49mget(\u001b[39m\"\u001b[39;49m\u001b[39mudot_wrangler_base_dir\u001b[39;49m\u001b[39m\"\u001b[39;49m)\n\u001b[0;32m     63\u001b[0m     )\n\u001b[0;32m     64\u001b[0m \u001b[39melse\u001b[39;00m:\n\u001b[0;32m     65\u001b[0m     \u001b[39mself\u001b[39m\u001b[39m.\u001b[39mbase_dir \u001b[39m=\u001b[39m get_base_dir()\n",
      "File \u001b[1;32md:\\GitHub\\test_wrangler_env\\.venv\\lib\\site-packages\\udot_wrangler\\parameters.py:18\u001b[0m, in \u001b[0;36mget_base_dir\u001b[1;34m(udot_wrangler_base_dir)\u001b[0m\n\u001b[0;32m     14\u001b[0m msg \u001b[39m=\u001b[39m \u001b[39m\"\u001b[39m\u001b[39mCannot find UDOT Wrangler base directory from \u001b[39m\u001b[39m{}\u001b[39;00m\u001b[39m, please input using keyword in parameters: `udot_wrangler_base_dir =` \u001b[39m\u001b[39m\"\u001b[39m\u001b[39m.\u001b[39mformat(\n\u001b[0;32m     15\u001b[0m     udot_wrangler_base_dir\n\u001b[0;32m     16\u001b[0m )\n\u001b[0;32m     17\u001b[0m WranglerLogger\u001b[39m.\u001b[39merror(msg)\n\u001b[1;32m---> 18\u001b[0m \u001b[39mraise\u001b[39;00m (\u001b[39mValueError\u001b[39;00m(msg))\n",
      "\u001b[1;31mValueError\u001b[0m: Cannot find UDOT Wrangler base directory from D:\\GitHub\\udot_wrangler, please input using keyword in parameters: `udot_wrangler_base_dir =` "
     ]
    }
   ],
   "source": [
    "udot_parameters = UDOT_Parameters(\n",
    "    udot_wrangler_base_dir = r\"D:\\GitHub\\udot_wrangler\",\n",
    "    cube_wrangler_base_dir = r\"D:\\GitHub\\cube_wrangler\"\n",
    ")"
   ]
  },
  {
   "cell_type": "code",
   "execution_count": 8,
   "id": "c2497536",
   "metadata": {},
   "outputs": [
    {
     "ename": "NameError",
     "evalue": "name 'udot_parameters' is not defined",
     "output_type": "error",
     "traceback": [
      "\u001b[1;31m---------------------------------------------------------------------------\u001b[0m",
      "\u001b[1;31mNameError\u001b[0m                                 Traceback (most recent call last)",
      "Cell \u001b[1;32mIn[8], line 4\u001b[0m\n\u001b[0;32m      1\u001b[0m project \u001b[38;5;241m=\u001b[39m Project\u001b[38;5;241m.\u001b[39mcreate_project(\n\u001b[0;32m      2\u001b[0m     base_roadway_network \u001b[38;5;241m=\u001b[39m base_scenario\u001b[38;5;241m.\u001b[39mroad_net,\n\u001b[0;32m      3\u001b[0m     roadway_log_file \u001b[38;5;241m=\u001b[39m \u001b[38;5;124mf\u001b[39m\u001b[38;5;124m\"\u001b[39m\u001b[38;5;132;01m{\u001b[39;00mlog_file_dir\u001b[38;5;132;01m}\u001b[39;00m\u001b[38;5;124m/\u001b[39m\u001b[38;5;132;01m{\u001b[39;00mlog_file_name\u001b[38;5;132;01m}\u001b[39;00m\u001b[38;5;124m.LOG\u001b[39m\u001b[38;5;124m\"\u001b[39m,\n\u001b[1;32m----> 4\u001b[0m     parameters \u001b[38;5;241m=\u001b[39m \u001b[43mudot_parameters\u001b[49m\n\u001b[0;32m      5\u001b[0m )\n",
      "\u001b[1;31mNameError\u001b[0m: name 'udot_parameters' is not defined"
     ]
    }
   ],
   "source": [
    "project = Project.create_project(\n",
    "    base_roadway_network = base_scenario.road_net,\n",
    "    roadway_log_file = f\"{log_file_dir}/{log_file_name}.LOG\",\n",
    "    parameters = udot_parameters\n",
    ")"
   ]
  },
  {
   "cell_type": "code",
   "execution_count": null,
   "id": "879fb184",
   "metadata": {},
   "outputs": [],
   "source": [
    "card_file_name = Path(f'{log_file_dir}/{log_file_name}.yaml')"
   ]
  },
  {
   "cell_type": "markdown",
   "id": "a2fb74e5",
   "metadata": {},
   "source": [
    "## Write project card"
   ]
  },
  {
   "cell_type": "code",
   "execution_count": null,
   "id": "36cc799f",
   "metadata": {},
   "outputs": [],
   "source": [
    "project.write_project_card(filename = card_file_name)"
   ]
  },
  {
   "cell_type": "markdown",
   "id": "743c2537",
   "metadata": {},
   "source": [
    "## Create and write project cards in a loop"
   ]
  },
  {
   "cell_type": "code",
   "execution_count": null,
   "id": "153a895c",
   "metadata": {},
   "outputs": [],
   "source": [
    "# get all file names in log_file_dir\n",
    "log_file_names = [\n",
    "    file.name for file in log_file_dir.iterdir() if file.is_file() and file.suffix == \".LOG\"\n",
    "]"
   ]
  },
  {
   "cell_type": "code",
   "execution_count": null,
   "id": "cc8a422b",
   "metadata": {},
   "outputs": [],
   "source": [
    "for log_file_name in log_file_names:\n",
    "    project = Project.create_project(\n",
    "        base_roadway_network = base_scenario.road_net,\n",
    "        roadway_log_file = f\"{log_file_dir}/{log_file_name}\",\n",
    "        parameters = udot_parameters\n",
    "    )\n",
    "    \n",
    "    card_file_name = Path(f'{log_file_dir}/{log_file_name}.yaml')\n",
    "    \n",
    "    project.write_project_card(filename = card_file_name)"
   ]
  },
  {
   "cell_type": "code",
   "execution_count": null,
   "id": "3feebbf2",
   "metadata": {},
   "outputs": [],
   "source": []
  }
 ],
 "metadata": {
  "kernelspec": {
   "display_name": "Python 3.10.18 ('.venv': venv)",
   "language": "python",
   "name": "python3"
  },
  "language_info": {
   "codemirror_mode": {
    "name": "ipython",
    "version": 3
   },
   "file_extension": ".py",
   "mimetype": "text/x-python",
   "name": "python",
   "nbconvert_exporter": "python",
   "pygments_lexer": "ipython3",
   "version": "3.10.18"
  },
  "vscode": {
   "interpreter": {
    "hash": "75363db0e810e2db1714ffaa996aa8adb5cc569d17f588a76b69405dd6e49dbf"
   }
  }
 },
 "nbformat": 4,
 "nbformat_minor": 5
}
