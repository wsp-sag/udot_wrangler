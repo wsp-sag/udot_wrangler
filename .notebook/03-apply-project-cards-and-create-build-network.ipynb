{
 "cells": [
  {
   "cell_type": "markdown",
   "id": "a0cf7602",
   "metadata": {},
   "source": [
    "### This notebook applies project cards to base network. And saves out a build network in Network Wrangler format, as well as in CUBE format."
   ]
  },
  {
   "cell_type": "code",
   "execution_count": null,
   "id": "38f27c55",
   "metadata": {},
   "outputs": [],
   "source": [
    "from pathlib import Path\n",
    "\n",
    "from network_wrangler import load_scenario\n",
    "from network_wrangler import create_scenario\n",
    "\n",
    "from cube_wrangler import roadway\n",
    "\n",
    "from udot_wrangler import UDOT_Parameters"
   ]
  },
  {
   "cell_type": "markdown",
   "id": "6b858c54",
   "metadata": {},
   "source": [
    "## I/O"
   ]
  },
  {
   "cell_type": "code",
   "execution_count": null,
   "id": "95d70b08",
   "metadata": {},
   "outputs": [],
   "source": [
    "root_dir = r\"Z:\\projects\\UDOT\\Network_Wrangler_Implementation_Phase_1\"\n",
    "data_dir = f\"{root_dir}/data\"\n",
    "log_file_dir = Path(f\"{data_dir}/external/new_log_files_from_F&P\")"
   ]
  },
  {
   "cell_type": "code",
   "execution_count": null,
   "id": "6f15caa4",
   "metadata": {},
   "outputs": [],
   "source": [
    "udot_parameters = UDOT_Parameters(\n",
    "    udot_wrangler_base_dir = r\"D:\\GitHub\\udot_wrangler\",\n",
    "    cube_wrangler_base_dir = r\"D:\\GitHub\\cube_wrangler\"\n",
    ")"
   ]
  },
  {
   "cell_type": "markdown",
   "id": "118a5fa0",
   "metadata": {},
   "source": [
    "## Load base scenario"
   ]
  },
  {
   "cell_type": "code",
   "execution_count": null,
   "id": "56a8c001",
   "metadata": {},
   "outputs": [],
   "source": [
    "base_scenario = load_scenario(\n",
    "    Path(f\"{data_dir}/interim/base_scenario/base_scenario.yml\"),\n",
    ")"
   ]
  },
  {
   "cell_type": "markdown",
   "id": "22cd6204",
   "metadata": {},
   "source": [
    "## Apply newly generated project card"
   ]
  },
  {
   "cell_type": "code",
   "execution_count": null,
   "id": "69ce8cf3",
   "metadata": {},
   "outputs": [],
   "source": [
    "# create a build scenario with project cards\n",
    "build_scenario = create_scenario(\n",
    "    base_scenario = base_scenario,\n",
    "    project_card_filepath = Path(f'{log_file_dir}'),\n",
    "    filter_tags = [\"C48\"],\n",
    ")"
   ]
  },
  {
   "cell_type": "code",
   "execution_count": null,
   "id": "b7ccb360",
   "metadata": {},
   "outputs": [],
   "source": [
    "# apply project cards\n",
    "build_scenario.apply_all_projects()"
   ]
  },
  {
   "cell_type": "markdown",
   "id": "2763f595",
   "metadata": {},
   "source": [
    "## Write out updated standard network"
   ]
  },
  {
   "cell_type": "code",
   "execution_count": null,
   "id": "b5921edd",
   "metadata": {},
   "outputs": [],
   "source": [
    "build_scenario.write(\n",
    "    Path(f\"{data_dir}/interim/build_scenario\"),\n",
    "    name = \"build\",\n",
    "    roadway_file_format = \"geojson\",\n",
    "    roadway_write = True,\n",
    "    projects_write = True,\n",
    "    overwrite = True,\n",
    ")"
   ]
  },
  {
   "cell_type": "markdown",
   "id": "ca0b85b7",
   "metadata": {},
   "source": [
    "## Write out updated CUBE network"
   ]
  },
  {
   "cell_type": "code",
   "execution_count": null,
   "id": "03fcd2f3",
   "metadata": {},
   "outputs": [],
   "source": [
    "roadway.write_roadway_as_fixedwidth(\n",
    "    roadway_net = build_scenario.road_net,\n",
    "    parameters = udot_parameters,\n",
    "    zones = udot_parameters.zones,\n",
    "    output_link_txt = Path(f\"{data_dir}/interim/build_scenario/roadway.txt\"),\n",
    "    output_node_txt = Path(f\"{data_dir}/interim/build_scenario/nodes.txt\"),\n",
    "    output_link_header_width_txt = Path(f\"{data_dir}/interim/build_scenario/roadway_header_width.txt\"),\n",
    "    output_node_header_width_txt = Path(f\"{data_dir}/interim/build_scenario/nodes_header_width.txt\"),\n",
    "    output_cube_network_script = Path(f\"{data_dir}/interim/build_scenario/make_cube_roadway_network_from_fixed_width_file.s\"),\n",
    ")"
   ]
  }
 ],
 "metadata": {
  "kernelspec": {
   "display_name": "Python 3.10.18 ('.venv': venv)",
   "language": "python",
   "name": "python3"
  },
  "language_info": {
   "codemirror_mode": {
    "name": "ipython",
    "version": 3
   },
   "file_extension": ".py",
   "mimetype": "text/x-python",
   "name": "python",
   "nbconvert_exporter": "python",
   "pygments_lexer": "ipython3",
   "version": "3.10.18"
  },
  "vscode": {
   "interpreter": {
    "hash": "75363db0e810e2db1714ffaa996aa8adb5cc569d17f588a76b69405dd6e49dbf"
   }
  }
 },
 "nbformat": 4,
 "nbformat_minor": 5
}
